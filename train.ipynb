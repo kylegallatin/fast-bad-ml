{
 "cells": [
  {
   "cell_type": "code",
   "execution_count": 2,
   "metadata": {},
   "outputs": [],
   "source": [
    "import pickle\n",
    "from sklearn.datasets import make_classification\n",
    "from sklearn.linear_model import LogisticRegression\n",
    "\n",
    "x, y = make_classification(n_samples=100, \n",
    "                           n_features=3, \n",
    "                           n_informative=2, \n",
    "                           n_classes=2, \n",
    "                           n_redundant=0, \n",
    "                           n_repeated=0,)\n",
    "\n",
    "lr = LogisticRegression()\n",
    "lr.fit(x,y)\n",
    "\n",
    "with open('model.pickle', 'wb') as f:\n",
    "    pickle.dump(lr, f)"
   ]
  }
 ],
 "metadata": {
  "kernelspec": {
   "display_name": "Python 3",
   "language": "python",
   "name": "python3"
  },
  "language_info": {
   "codemirror_mode": {
    "name": "ipython",
    "version": 3
   },
   "file_extension": ".py",
   "mimetype": "text/x-python",
   "name": "python",
   "nbconvert_exporter": "python",
   "pygments_lexer": "ipython3",
   "version": "3.8.3"
  }
 },
 "nbformat": 4,
 "nbformat_minor": 4
}
